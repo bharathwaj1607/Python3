{
 "cells": [
  {
   "cell_type": "markdown",
   "metadata": {},
   "source": [
    "### OOP lets the user create his own object and use it"
   ]
  },
  {
   "cell_type": "markdown",
   "metadata": {},
   "source": [
    "#### Class and Attributes"
   ]
  },
  {
   "cell_type": "code",
   "execution_count": 18,
   "metadata": {},
   "outputs": [],
   "source": [
    "#Class is defined using a class keyword followed by a class name\n",
    "#class name should be camelcase\n",
    "#Syntax : class ClassName()\n",
    "\n",
    "#def __init__(self, parameter) is a method for the class created where the user can mention the attributes\n",
    "#self is an indication to python that it is a user created method\n",
    "#Inside __init__, the attribute is defined as self.attribute = parameter\n",
    "\n",
    "class Car():\n",
    "    \n",
    "    def __init__(self,maker,model):\n",
    "        self.carmaker = maker\n",
    "        self.carmodel = model\n",
    "        "
   ]
  },
  {
   "cell_type": "code",
   "execution_count": 19,
   "metadata": {},
   "outputs": [],
   "source": [
    "my_car = Car(maker='Hyundai',model = 'i10')"
   ]
  },
  {
   "cell_type": "code",
   "execution_count": 20,
   "metadata": {},
   "outputs": [
    {
     "name": "stdout",
     "output_type": "stream",
     "text": [
      "Car Maker = Hyundai\n",
      "Car Model = i10\n"
     ]
    }
   ],
   "source": [
    "print('Car Maker = ' + my_car.carmaker + '\\n' + 'Car Model = ' + my_car.carmodel)"
   ]
  },
  {
   "cell_type": "code",
   "execution_count": 21,
   "metadata": {},
   "outputs": [
    {
     "data": {
      "text/plain": [
       "__main__.Car"
      ]
     },
     "execution_count": 21,
     "metadata": {},
     "output_type": "execute_result"
    }
   ],
   "source": [
    "type(my_car)"
   ]
  },
  {
   "cell_type": "markdown",
   "metadata": {},
   "source": [
    "#### Class Object Attribute"
   ]
  },
  {
   "cell_type": "code",
   "execution_count": 28,
   "metadata": {},
   "outputs": [],
   "source": [
    "#Class Object Attribute remains the same for any instance of a class\n",
    "#For Class Object Attribute, self keyword is not needed\n",
    "\n",
    "class Notebook():\n",
    "    \n",
    "    #Class Object Attribute\n",
    "    material = 'Paper'\n",
    "    \n",
    "    def __init__(self, pages, notebooktype):\n",
    "        self.pages = pages\n",
    "        self.notebooktype = notebooktype"
   ]
  },
  {
   "cell_type": "code",
   "execution_count": 29,
   "metadata": {},
   "outputs": [],
   "source": [
    "my_notebook = Notebook(pages = 192, notebooktype = 'Ruled')"
   ]
  },
  {
   "cell_type": "code",
   "execution_count": 30,
   "metadata": {},
   "outputs": [
    {
     "data": {
      "text/plain": [
       "'Paper'"
      ]
     },
     "execution_count": 30,
     "metadata": {},
     "output_type": "execute_result"
    }
   ],
   "source": [
    "my_notebook.material"
   ]
  },
  {
   "cell_type": "code",
   "execution_count": 31,
   "metadata": {},
   "outputs": [
    {
     "data": {
      "text/plain": [
       "192"
      ]
     },
     "execution_count": 31,
     "metadata": {},
     "output_type": "execute_result"
    }
   ],
   "source": [
    "my_notebook.pages"
   ]
  },
  {
   "cell_type": "code",
   "execution_count": 32,
   "metadata": {},
   "outputs": [
    {
     "data": {
      "text/plain": [
       "'Ruled'"
      ]
     },
     "execution_count": 32,
     "metadata": {},
     "output_type": "execute_result"
    }
   ],
   "source": [
    "my_notebook.notebooktype"
   ]
  },
  {
   "cell_type": "markdown",
   "metadata": {},
   "source": [
    "#### Method Attribute"
   ]
  },
  {
   "cell_type": "code",
   "execution_count": 61,
   "metadata": {},
   "outputs": [],
   "source": [
    "#Difference between Function and Method\n",
    "#Function is independent and performs some actions\n",
    "#Method is bound to a class object and it performs some actions\n",
    "\n",
    "class CricketBat():\n",
    "    \n",
    "    material = 'Willow Wood'\n",
    "    \n",
    "    def __init__(self,brand,battype):\n",
    "        self.brand = brand\n",
    "        self.battype = battype\n",
    "    \n",
    "    #weight() is a method that is bound to the CricketBat class\n",
    "    def weight(self, year):\n",
    "        print('The {} {} manufactured on {} has a weight of 2.2lbs'.format(self.brand, self.battype, year))"
   ]
  },
  {
   "cell_type": "code",
   "execution_count": 62,
   "metadata": {},
   "outputs": [],
   "source": [
    "my_bat = CricketBat('MRF', 'English Willow')"
   ]
  },
  {
   "cell_type": "code",
   "execution_count": 63,
   "metadata": {},
   "outputs": [
    {
     "data": {
      "text/plain": [
       "'English Willow'"
      ]
     },
     "execution_count": 63,
     "metadata": {},
     "output_type": "execute_result"
    }
   ],
   "source": [
    "my_bat.battype"
   ]
  },
  {
   "cell_type": "code",
   "execution_count": 64,
   "metadata": {},
   "outputs": [
    {
     "data": {
      "text/plain": [
       "'MRF'"
      ]
     },
     "execution_count": 64,
     "metadata": {},
     "output_type": "execute_result"
    }
   ],
   "source": [
    "my_bat.brand"
   ]
  },
  {
   "cell_type": "code",
   "execution_count": 65,
   "metadata": {},
   "outputs": [
    {
     "name": "stdout",
     "output_type": "stream",
     "text": [
      "The MRF English Willow manufactured on 2014 has a weight of 2.2lbs\n"
     ]
    }
   ],
   "source": [
    "my_bat.weight(2014)"
   ]
  },
  {
   "cell_type": "code",
   "execution_count": null,
   "metadata": {},
   "outputs": [],
   "source": []
  }
 ],
 "metadata": {
  "kernelspec": {
   "display_name": "Python 3",
   "language": "python",
   "name": "python3"
  },
  "language_info": {
   "codemirror_mode": {
    "name": "ipython",
    "version": 3
   },
   "file_extension": ".py",
   "mimetype": "text/x-python",
   "name": "python",
   "nbconvert_exporter": "python",
   "pygments_lexer": "ipython3",
   "version": "3.7.4"
  }
 },
 "nbformat": 4,
 "nbformat_minor": 2
}
