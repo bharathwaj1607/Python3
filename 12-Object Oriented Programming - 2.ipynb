{
 "cells": [
  {
   "cell_type": "markdown",
   "metadata": {},
   "source": [
    "### Inheritance reuses the method from the base class.\n",
    "\n",
    "### Inheritance reduces the complexity of the code"
   ]
  },
  {
   "cell_type": "code",
   "execution_count": 17,
   "metadata": {},
   "outputs": [],
   "source": [
    "class MobilePhones():\n",
    "    def __init__(self):\n",
    "        print(\"I am a device\")\n",
    "    \n",
    "    def make_a_call(self):\n",
    "        print(\"You can call from this phone\")"
   ]
  },
  {
   "cell_type": "code",
   "execution_count": 18,
   "metadata": {},
   "outputs": [],
   "source": [
    "class AndroidPhones(MobilePhones):\n",
    "    def __init__(self):\n",
    "        MobilePhones.__init__(self)\n",
    "        print(\"I am an Android device\")"
   ]
  },
  {
   "cell_type": "code",
   "execution_count": 19,
   "metadata": {},
   "outputs": [
    {
     "name": "stdout",
     "output_type": "stream",
     "text": [
      "I am a device\n",
      "I am an Android device\n"
     ]
    }
   ],
   "source": [
    "my_phone = AndroidPhones()"
   ]
  },
  {
   "cell_type": "code",
   "execution_count": 30,
   "metadata": {},
   "outputs": [
    {
     "name": "stdout",
     "output_type": "stream",
     "text": [
      "You can call from this phone\n"
     ]
    }
   ],
   "source": [
    "my_phone.make_a_call()"
   ]
  },
  {
   "cell_type": "markdown",
   "metadata": {},
   "source": [
    "### Special/Magic method"
   ]
  },
  {
   "cell_type": "code",
   "execution_count": 45,
   "metadata": {},
   "outputs": [],
   "source": [
    "# Special methods are in-built python methods but it can be used only on certain operations and not on a class\n",
    "# Hence this special method is used. Similar to __init__, methods like __str__, __len__ etc can be created\n",
    "# They are also called Dunder methods as it uses __(double underscore)\n",
    "\n",
    "class Book():\n",
    "    def __init__(self,name,author,copiesSold):\n",
    "        self.name = name\n",
    "        self.author = author\n",
    "        self.copiesSold = copiesSold\n",
    "    \n",
    "    #__str__ is a string representation of the class Book\n",
    "    def __str__(self):\n",
    "        return '{} written by {}'.format(self.name,self.author)\n",
    "    def __len__(self):\n",
    "        return self.copiesSold\n",
    "    "
   ]
  },
  {
   "cell_type": "code",
   "execution_count": 46,
   "metadata": {},
   "outputs": [],
   "source": [
    "mybook = Book('Cricket Love', 'Bharathwaj', 10000)"
   ]
  },
  {
   "cell_type": "code",
   "execution_count": 47,
   "metadata": {},
   "outputs": [
    {
     "data": {
      "text/plain": [
       "'Cricket Love written by Bharathwaj'"
      ]
     },
     "execution_count": 47,
     "metadata": {},
     "output_type": "execute_result"
    }
   ],
   "source": [
    "#This is a string representation of the class Book\n",
    "str(mybook)"
   ]
  },
  {
   "cell_type": "code",
   "execution_count": 48,
   "metadata": {},
   "outputs": [
    {
     "data": {
      "text/plain": [
       "10000"
      ]
     },
     "execution_count": 48,
     "metadata": {},
     "output_type": "execute_result"
    }
   ],
   "source": [
    "len(mybook)"
   ]
  },
  {
   "cell_type": "code",
   "execution_count": null,
   "metadata": {},
   "outputs": [],
   "source": []
  }
 ],
 "metadata": {
  "kernelspec": {
   "display_name": "Python 3",
   "language": "python",
   "name": "python3"
  },
  "language_info": {
   "codemirror_mode": {
    "name": "ipython",
    "version": 3
   },
   "file_extension": ".py",
   "mimetype": "text/x-python",
   "name": "python",
   "nbconvert_exporter": "python",
   "pygments_lexer": "ipython3",
   "version": "3.7.4"
  }
 },
 "nbformat": 4,
 "nbformat_minor": 2
}
