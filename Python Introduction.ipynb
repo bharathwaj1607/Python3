{
 "cells": [
  {
   "cell_type": "markdown",
   "metadata": {},
   "source": [
    "# Welcome to Python tutorial\n",
    "\n",
    "- In this tutorial, we will learn Python solely using Jupyter Notebook\n",
    "\n",
    "- All of the concepts explained are using Jupyter Notebook\n"
   ]
  },
  {
   "cell_type": "markdown",
   "metadata": {},
   "source": [
    "## Install Python\n",
    "\n",
    "- Go to https://www.python.org/downloads\n",
    "- Download the current latest version of Python for your computer\n",
    "- In the setup, do check the Add Python to your PATH check box. Once the setup is done, in the Start menu, type cmd\n",
    "- Inside the command prompt, type python --version\n",
    "- You will get, Python 3.7.3. This indicates that the Python is installed in your computer\n",
    "\n",
    "\n",
    "- Next, lets install Anaconda.\n",
    "- To do this, go to www.anaconda.com/downloads\n",
    "- Install the Anaconda Navigator\n",
    "- Once installed, launch the Jupyter Notebook"
   ]
  },
  {
   "cell_type": "markdown",
   "metadata": {},
   "source": [
    "# First Python code\n",
    "\n",
    "- Python is probably the easiest to understand programming language\n",
    "- Here's is how you can run your first Python code"
   ]
  },
  {
   "cell_type": "code",
   "execution_count": 1,
   "metadata": {},
   "outputs": [
    {
     "data": {
      "text/plain": [
       "5"
      ]
     },
     "execution_count": 1,
     "metadata": {},
     "output_type": "execute_result"
    }
   ],
   "source": [
    "2 + 3"
   ]
  },
  {
   "cell_type": "markdown",
   "metadata": {},
   "source": [
    "There you go!!\n",
    "That is how simple it is to run Python code. Yeah, I know, the first program of any programming language should be Hello World. So, let's do that."
   ]
  },
  {
   "cell_type": "code",
   "execution_count": 3,
   "metadata": {},
   "outputs": [
    {
     "name": "stdout",
     "output_type": "stream",
     "text": [
      "Hello World!\n"
     ]
    }
   ],
   "source": [
    "print('Hello World!')"
   ]
  },
  {
   "cell_type": "markdown",
   "metadata": {},
   "source": [
    "print() is a method to print out something on to your screen. And inside of the paranthesis, you can write anything you want to print inside of a single or a double quotes."
   ]
  },
  {
   "cell_type": "code",
   "execution_count": null,
   "metadata": {},
   "outputs": [],
   "source": []
  }
 ],
 "metadata": {
  "kernelspec": {
   "display_name": "Python 3",
   "language": "python",
   "name": "python3"
  },
  "language_info": {
   "codemirror_mode": {
    "name": "ipython",
    "version": 3
   },
   "file_extension": ".py",
   "mimetype": "text/x-python",
   "name": "python",
   "nbconvert_exporter": "python",
   "pygments_lexer": "ipython3",
   "version": "3.7.4"
  }
 },
 "nbformat": 4,
 "nbformat_minor": 2
}
