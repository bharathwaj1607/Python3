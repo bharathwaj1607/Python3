{
 "cells": [
  {
   "cell_type": "code",
   "execution_count": 13,
   "metadata": {},
   "outputs": [
    {
     "name": "stdout",
     "output_type": "stream",
     "text": [
      "Do nothing\n"
     ]
    }
   ],
   "source": [
    "temp = 41\n",
    "if temp in range(33,40):\n",
    "    print('It is hot out there')\n",
    "elif temp in range(26,32):\n",
    "    print('It is a normal day')\n",
    "elif temp < 25:\n",
    "    print('It is cold outside')\n",
    "else:\n",
    "    print('Do nothing')"
   ]
  },
  {
   "cell_type": "markdown",
   "metadata": {},
   "source": [
    "## For Loop"
   ]
  },
  {
   "cell_type": "code",
   "execution_count": 17,
   "metadata": {},
   "outputs": [
    {
     "name": "stdout",
     "output_type": "stream",
     "text": [
      "1\n",
      "2\n",
      "3\n",
      "4\n",
      "5\n"
     ]
    }
   ],
   "source": [
    "myList = [1,2,3,4,5]\n",
    "\n",
    "for num in myList:\n",
    "    print(num)"
   ]
  },
  {
   "cell_type": "code",
   "execution_count": 24,
   "metadata": {},
   "outputs": [
    {
     "name": "stdout",
     "output_type": "stream",
     "text": [
      "25000.0\n",
      "30000.0\n",
      "26000.0\n"
     ]
    }
   ],
   "source": [
    "records = [('Bharath',22,25000.00),('Slaiman',25,30000.00),('Katie', 24, 26000.00)]\n",
    "\n",
    "for (name,age,salary) in records:\n",
    "    print(salary)\n",
    "    "
   ]
  },
  {
   "cell_type": "code",
   "execution_count": 28,
   "metadata": {},
   "outputs": [
    {
     "name": "stdout",
     "output_type": "stream",
     "text": [
      "Bharath\n",
      "22\n",
      "25000.0\n"
     ]
    }
   ],
   "source": [
    "sampleDict = {'Name' : 'Bharath', 'Age' : 22, 'Salary' : 25000.00}\n",
    "\n",
    "for key, value in sampleDict.items():\n",
    "    print(value)"
   ]
  },
  {
   "cell_type": "markdown",
   "metadata": {},
   "source": [
    "## While loop"
   ]
  },
  {
   "cell_type": "code",
   "execution_count": 30,
   "metadata": {},
   "outputs": [
    {
     "name": "stdout",
     "output_type": "stream",
     "text": [
      "The value of x is 0\n",
      "The value of x is 1\n",
      "The value of x is 2\n",
      "The value of x is 3\n",
      "The value of x is 4\n",
      "The value of x is 5\n",
      "The value of x is 6\n",
      "The value of x is 7\n",
      "The value of x is 8\n",
      "The value of x is 9\n"
     ]
    }
   ],
   "source": [
    "x = 0\n",
    "\n",
    "while x < 10:\n",
    "    print(f'The value of x is {x}')\n",
    "    x+= 1"
   ]
  },
  {
   "cell_type": "code",
   "execution_count": 34,
   "metadata": {},
   "outputs": [
    {
     "name": "stdout",
     "output_type": "stream",
     "text": [
      "*\n",
      "**\n",
      "***\n",
      "****\n",
      "\n",
      "\n"
     ]
    }
   ],
   "source": [
    "value = '*'\n",
    "x = 1\n",
    "while x < 5:\n",
    "    print(value*x)\n",
    "    x+=1\n",
    "print('\\n')"
   ]
  },
  {
   "cell_type": "markdown",
   "metadata": {},
   "source": [
    "## Break Continue Pass"
   ]
  },
  {
   "cell_type": "code",
   "execution_count": 38,
   "metadata": {},
   "outputs": [
    {
     "name": "stdout",
     "output_type": "stream",
     "text": [
      "J\n",
      "o\n"
     ]
    }
   ],
   "source": [
    "#Break\n",
    "\n",
    "name = 'John'\n",
    "\n",
    "for letter in name:\n",
    "    if letter == 'h':\n",
    "        break\n",
    "    print(letter)"
   ]
  },
  {
   "cell_type": "code",
   "execution_count": 40,
   "metadata": {},
   "outputs": [
    {
     "name": "stdout",
     "output_type": "stream",
     "text": [
      "J\n",
      "h\n",
      "n\n"
     ]
    }
   ],
   "source": [
    "#Continue\n",
    "\n",
    "for letter in name:\n",
    "    if letter == 'o':\n",
    "        continue\n",
    "    print(letter)"
   ]
  },
  {
   "cell_type": "code",
   "execution_count": 43,
   "metadata": {},
   "outputs": [
    {
     "name": "stdout",
     "output_type": "stream",
     "text": [
      "I will do it later\n"
     ]
    }
   ],
   "source": [
    "#Pass\n",
    "\n",
    "x = [1,2,3]\n",
    "for num in x:\n",
    "    pass\n",
    "\n",
    "print('I will do it later')"
   ]
  },
  {
   "cell_type": "code",
   "execution_count": null,
   "metadata": {},
   "outputs": [],
   "source": []
  }
 ],
 "metadata": {
  "kernelspec": {
   "display_name": "Python 3",
   "language": "python",
   "name": "python3"
  },
  "language_info": {
   "codemirror_mode": {
    "name": "ipython",
    "version": 3
   },
   "file_extension": ".py",
   "mimetype": "text/x-python",
   "name": "python",
   "nbconvert_exporter": "python",
   "pygments_lexer": "ipython3",
   "version": "3.7.4"
  }
 },
 "nbformat": 4,
 "nbformat_minor": 2
}
