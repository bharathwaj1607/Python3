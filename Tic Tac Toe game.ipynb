{
 "cells": [
  {
   "cell_type": "markdown",
   "metadata": {},
   "source": [
    "### Display board"
   ]
  },
  {
   "cell_type": "code",
   "execution_count": 4,
   "metadata": {},
   "outputs": [],
   "source": [
    "from IPython.display import clear_output\n",
    "def displayboard(board):\n",
    "    clear_output()\n",
    "    print(board[7] + '  ' + '|' + '  ' + board[8] + '  ' + '|'  + ' '+ board[9])\n",
    "    print(' ------------ ')\n",
    "    print(board[4] + '  ' + '|' + '  ' + board[5] + '  ' + '|'  + ' '+ board[6])\n",
    "    print(' ------------ ')\n",
    "    print(board[1] + '  ' + '|' + '  ' + board[2] + '  ' + '|'  + ' '+ board[3])"
   ]
  },
  {
   "cell_type": "code",
   "execution_count": 5,
   "metadata": {},
   "outputs": [
    {
     "name": "stdout",
     "output_type": "stream",
     "text": [
      "   |     |  \n",
      " ------------ \n",
      "   |     |  \n",
      " ------------ \n",
      "   |     |  \n"
     ]
    }
   ],
   "source": [
    "test_board = [' ']*10\n",
    "displayboard(test_board)"
   ]
  },
  {
   "cell_type": "markdown",
   "metadata": {},
   "source": [
    "### Player Input"
   ]
  },
  {
   "cell_type": "code",
   "execution_count": 6,
   "metadata": {},
   "outputs": [],
   "source": [
    "def playerinput():\n",
    "    marker = ''\n",
    "    \n",
    "    while not (marker == 'X' or marker == 'O'):\n",
    "        marker = input('Player 1: Do you want to be X or O? ').upper()\n",
    "\n",
    "    if marker == 'X':\n",
    "        return ('X', 'O')\n",
    "    else:\n",
    "        return ('O', 'X')"
   ]
  },
  {
   "cell_type": "markdown",
   "metadata": {},
   "source": [
    "### Place the input in a position"
   ]
  },
  {
   "cell_type": "code",
   "execution_count": 7,
   "metadata": {},
   "outputs": [],
   "source": [
    "def placemarker(board,marker,position):\n",
    "    board[position] = marker\n",
    "    "
   ]
  },
  {
   "cell_type": "code",
   "execution_count": 8,
   "metadata": {},
   "outputs": [
    {
     "name": "stdout",
     "output_type": "stream",
     "text": [
      "   |     |  \n",
      " ------------ \n",
      "   |     |  \n",
      " ------------ \n",
      "X  |  X  | X\n"
     ]
    }
   ],
   "source": [
    "placemarker(test_board, 'X', 1)\n",
    "placemarker(test_board, 'X', 2)\n",
    "placemarker(test_board, 'X', 3)\n",
    "displayboard(test_board)"
   ]
  },
  {
   "cell_type": "code",
   "execution_count": 9,
   "metadata": {},
   "outputs": [],
   "source": [
    "def wincheck(board,marker):\n",
    "     return ((board[7] == marker and board[8] == marker and board[9] == marker) or # across the top\n",
    "    (board[4] == marker and board[5] == marker and board[6] == marker) or # across the middle\n",
    "    (board[1] == marker and board[2] == marker and board[3] == marker) or # across the bottom\n",
    "    (board[7] == marker and board[4] == marker and board[1] == marker) or # down the middle\n",
    "    (board[8] == marker and board[5] == marker and board[2] == marker) or # down the middle\n",
    "    (board[9] == marker and board[6] == marker and board[3] == marker) or # down the right side\n",
    "    (board[7] == marker and board[5] == marker and board[3] == marker) or # diagonal\n",
    "    (board[9] == marker and board[5] == marker and board[1] == marker)) # diagonal"
   ]
  },
  {
   "cell_type": "code",
   "execution_count": 10,
   "metadata": {},
   "outputs": [
    {
     "data": {
      "text/plain": [
       "True"
      ]
     },
     "execution_count": 10,
     "metadata": {},
     "output_type": "execute_result"
    }
   ],
   "source": [
    "wincheck(test_board, 'X')"
   ]
  },
  {
   "cell_type": "markdown",
   "metadata": {},
   "source": [
    "### Who plays first? Choosen at random"
   ]
  },
  {
   "cell_type": "code",
   "execution_count": 11,
   "metadata": {},
   "outputs": [],
   "source": [
    "import random\n",
    "def choosefirst():\n",
    "    if random.randint(1,2) == 1:\n",
    "        return 'Player 1'\n",
    "    else:\n",
    "        return 'Player 2'"
   ]
  },
  {
   "cell_type": "markdown",
   "metadata": {},
   "source": [
    "### To check if a given space in the board is empty"
   ]
  },
  {
   "cell_type": "code",
   "execution_count": 12,
   "metadata": {},
   "outputs": [],
   "source": [
    "def spacecheck(board, position):\n",
    "    return board[position] == ' '"
   ]
  },
  {
   "cell_type": "code",
   "execution_count": 13,
   "metadata": {},
   "outputs": [
    {
     "data": {
      "text/plain": [
       "False"
      ]
     },
     "execution_count": 13,
     "metadata": {},
     "output_type": "execute_result"
    }
   ],
   "source": [
    "spacecheck(test_board, 3)"
   ]
  },
  {
   "cell_type": "markdown",
   "metadata": {},
   "source": [
    "### To check if the board is full"
   ]
  },
  {
   "cell_type": "code",
   "execution_count": 14,
   "metadata": {},
   "outputs": [],
   "source": [
    "def fullboardcheck(board):\n",
    "    for i in range(1,10):\n",
    "        if spacecheck(board, i):\n",
    "            return False\n",
    "    return True"
   ]
  },
  {
   "cell_type": "code",
   "execution_count": 15,
   "metadata": {},
   "outputs": [
    {
     "data": {
      "text/plain": [
       "False"
      ]
     },
     "execution_count": 15,
     "metadata": {},
     "output_type": "execute_result"
    }
   ],
   "source": [
    "fullboardcheck(test_board)"
   ]
  },
  {
   "cell_type": "markdown",
   "metadata": {},
   "source": [
    "### Check in which position does the player want to place the marker"
   ]
  },
  {
   "cell_type": "code",
   "execution_count": 16,
   "metadata": {},
   "outputs": [],
   "source": [
    "def playerchoice(board):\n",
    "    position = 0\n",
    "    \n",
    "    while position not in [1,2,3,4,5,6,7,8,9] or not spacecheck(board,position):\n",
    "        position = int(input('Choose your next position: (1-9): '))\n",
    "    \n",
    "    return position"
   ]
  },
  {
   "cell_type": "code",
   "execution_count": 17,
   "metadata": {},
   "outputs": [],
   "source": [
    "def replay():\n",
    "    return input('Do you want to play again? Press y or n: ').lower().startswith('y')"
   ]
  },
  {
   "cell_type": "markdown",
   "metadata": {},
   "source": [
    "### Building the actual game"
   ]
  },
  {
   "cell_type": "code",
   "execution_count": null,
   "metadata": {},
   "outputs": [
    {
     "name": "stdout",
     "output_type": "stream",
     "text": [
      "X  |  X  | X\n",
      " ------------ \n",
      "   |  O  | O\n",
      " ------------ \n",
      "O  |  O  | X\n",
      "Congratulations! Player 1 wins!!\n"
     ]
    }
   ],
   "source": [
    "print('Welcome to Tic Tac Toe game!')\n",
    "while True:\n",
    "    board = [' '] * 10\n",
    "    player1marker, player2marker = playerinput()\n",
    "    turn = choosefirst()\n",
    "    print(turn + '  will begin first!')\n",
    "    \n",
    "    play_game = input('Are you ready to play the game? Enter y or n: ')\n",
    "    \n",
    "    if play_game.lower()[0] == 'y':\n",
    "        game_on = True\n",
    "    else:\n",
    "        game_on = False\n",
    "    \n",
    "    while game_on:\n",
    "        if turn == 'Player 1':\n",
    "            displayboard(board)\n",
    "            position = playerchoice(board)\n",
    "            placemarker(board,player1marker,position)\n",
    "            \n",
    "            if wincheck(board, player1marker):\n",
    "                displayboard(board)\n",
    "                print('Congratulations! Player 1 wins!!')\n",
    "                game_on = False\n",
    "                \n",
    "            else:\n",
    "                if fullboardcheck(board):\n",
    "                    displayboard(board)\n",
    "                    print('Match drawn')\n",
    "                    break\n",
    "                else:\n",
    "                    turn = 'Player 2'\n",
    "        \n",
    "        else:\n",
    "            \n",
    "            displayboard(board)\n",
    "            position = playerchoice(board)\n",
    "            placemarker(board, player2marker,position)\n",
    "            \n",
    "            if wincheck(board, player2marker):\n",
    "                displayboard(board)\n",
    "                print('Congratulations! Player 2 wins!!')\n",
    "                game_on = False\n",
    "            else:\n",
    "                if fullboardcheck(board):\n",
    "                    displayboard(board)\n",
    "                    print('Match drawn')\n",
    "                    break\n",
    "                else:\n",
    "                    turn = 'Player 1'\n",
    "                        \n",
    "    if not replay():\n",
    "        break\n",
    "                    "
   ]
  },
  {
   "cell_type": "code",
   "execution_count": null,
   "metadata": {},
   "outputs": [],
   "source": []
  }
 ],
 "metadata": {
  "kernelspec": {
   "display_name": "Python 3",
   "language": "python",
   "name": "python3"
  },
  "language_info": {
   "codemirror_mode": {
    "name": "ipython",
    "version": 3
   },
   "file_extension": ".py",
   "mimetype": "text/x-python",
   "name": "python",
   "nbconvert_exporter": "python",
   "pygments_lexer": "ipython3",
   "version": "3.7.4"
  }
 },
 "nbformat": 4,
 "nbformat_minor": 2
}
